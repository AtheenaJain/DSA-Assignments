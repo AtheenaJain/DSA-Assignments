{
 "cells": [
  {
   "cell_type": "code",
   "execution_count": 1,
   "id": "bfc8eaa5",
   "metadata": {},
   "outputs": [],
   "source": [
    "import numpy as np\n",
    "import pandas as pd"
   ]
  },
  {
   "cell_type": "code",
   "execution_count": 2,
   "id": "461c8686",
   "metadata": {},
   "outputs": [],
   "source": [
    "data=pd.read_csv(r\"C:\\Users\\Atheena Jain\\Downloads\\Sales_add.csv\")"
   ]
  },
  {
   "cell_type": "code",
   "execution_count": 6,
   "id": "e1d27077",
   "metadata": {},
   "outputs": [],
   "source": [
    "from scipy.stats import ttest_rel"
   ]
  },
  {
   "cell_type": "code",
   "execution_count": 8,
   "id": "939b419d",
   "metadata": {},
   "outputs": [],
   "source": [
    "t_stat,p_value=ttest_rel(data['Sales_before_digital_add(in $)'],data['Sales_After_digital_add(in $)'])"
   ]
  },
  {
   "cell_type": "code",
   "execution_count": 9,
   "id": "e01053b6",
   "metadata": {},
   "outputs": [
    {
     "data": {
      "text/plain": [
       "6.336667004575778e-11"
      ]
     },
     "execution_count": 9,
     "metadata": {},
     "output_type": "execute_result"
    }
   ],
   "source": [
    "p_value"
   ]
  },
  {
   "cell_type": "code",
   "execution_count": 11,
   "id": "95fcd646",
   "metadata": {},
   "outputs": [
    {
     "data": {
      "text/plain": [
       "-12.09070525287017"
      ]
     },
     "execution_count": 11,
     "metadata": {},
     "output_type": "execute_result"
    }
   ],
   "source": [
    "t_stat"
   ]
  },
  {
   "cell_type": "code",
   "execution_count": 38,
   "id": "33830fd5",
   "metadata": {},
   "outputs": [
    {
     "name": "stdout",
     "output_type": "stream",
     "text": [
      "Null hypothesis rejected\n"
     ]
    }
   ],
   "source": [
    "if p_value<0.05:\n",
    "    print('Null hypothesis rejected')\n",
    "else:\n",
    "    print('Null hypothesis accepted')"
   ]
  },
  {
   "cell_type": "code",
   "execution_count": 46,
   "id": "0176876a",
   "metadata": {},
   "outputs": [],
   "source": [
    "#The null hypothesis is there is no increase in sales after the implementation of digital add and its rejected"
   ]
  },
  {
   "cell_type": "code",
   "execution_count": 39,
   "id": "920e2a2f",
   "metadata": {},
   "outputs": [],
   "source": [
    "from scipy.stats import chi2_contingency"
   ]
  },
  {
   "cell_type": "code",
   "execution_count": 40,
   "id": "2f28fb2e",
   "metadata": {},
   "outputs": [],
   "source": [
    "contingency_table = pd.pivot_table(data, index='Region', columns='Manager', values=['Sales_before_digital_add(in $)','Sales_After_digital_add(in $)'], aggfunc=sum, fill_value=0)"
   ]
  },
  {
   "cell_type": "code",
   "execution_count": 41,
   "id": "42cfcc1b",
   "metadata": {},
   "outputs": [
    {
     "data": {
      "text/html": [
       "<div>\n",
       "<style scoped>\n",
       "    .dataframe tbody tr th:only-of-type {\n",
       "        vertical-align: middle;\n",
       "    }\n",
       "\n",
       "    .dataframe tbody tr th {\n",
       "        vertical-align: top;\n",
       "    }\n",
       "\n",
       "    .dataframe thead tr th {\n",
       "        text-align: left;\n",
       "    }\n",
       "\n",
       "    .dataframe thead tr:last-of-type th {\n",
       "        text-align: right;\n",
       "    }\n",
       "</style>\n",
       "<table border=\"1\" class=\"dataframe\">\n",
       "  <thead>\n",
       "    <tr>\n",
       "      <th></th>\n",
       "      <th colspan=\"3\" halign=\"left\">Sales_After_digital_add(in $)</th>\n",
       "      <th colspan=\"3\" halign=\"left\">Sales_before_digital_add(in $)</th>\n",
       "    </tr>\n",
       "    <tr>\n",
       "      <th>Manager</th>\n",
       "      <th>Manager - A</th>\n",
       "      <th>Manager - B</th>\n",
       "      <th>Manager - C</th>\n",
       "      <th>Manager - A</th>\n",
       "      <th>Manager - B</th>\n",
       "      <th>Manager - C</th>\n",
       "    </tr>\n",
       "    <tr>\n",
       "      <th>Region</th>\n",
       "      <th></th>\n",
       "      <th></th>\n",
       "      <th></th>\n",
       "      <th></th>\n",
       "      <th></th>\n",
       "      <th></th>\n",
       "    </tr>\n",
       "  </thead>\n",
       "  <tbody>\n",
       "    <tr>\n",
       "      <th>Region - A</th>\n",
       "      <td>1030437</td>\n",
       "      <td>656832</td>\n",
       "      <td>701262</td>\n",
       "      <td>594514</td>\n",
       "      <td>466851</td>\n",
       "      <td>420684</td>\n",
       "    </tr>\n",
       "    <tr>\n",
       "      <th>Region - B</th>\n",
       "      <td>939851</td>\n",
       "      <td>231808</td>\n",
       "      <td>429436</td>\n",
       "      <td>570900</td>\n",
       "      <td>152167</td>\n",
       "      <td>330598</td>\n",
       "    </tr>\n",
       "    <tr>\n",
       "      <th>Region - C</th>\n",
       "      <td>229336</td>\n",
       "      <td>643654</td>\n",
       "      <td>222106</td>\n",
       "      <td>147463</td>\n",
       "      <td>469477</td>\n",
       "      <td>130625</td>\n",
       "    </tr>\n",
       "  </tbody>\n",
       "</table>\n",
       "</div>"
      ],
      "text/plain": [
       "           Sales_After_digital_add(in $)                          \\\n",
       "Manager                      Manager - A Manager - B Manager - C   \n",
       "Region                                                             \n",
       "Region - A                       1030437      656832      701262   \n",
       "Region - B                        939851      231808      429436   \n",
       "Region - C                        229336      643654      222106   \n",
       "\n",
       "           Sales_before_digital_add(in $)                          \n",
       "Manager                       Manager - A Manager - B Manager - C  \n",
       "Region                                                             \n",
       "Region - A                         594514      466851      420684  \n",
       "Region - B                         570900      152167      330598  \n",
       "Region - C                         147463      469477      130625  "
      ]
     },
     "execution_count": 41,
     "metadata": {},
     "output_type": "execute_result"
    }
   ],
   "source": [
    "contingency_table"
   ]
  },
  {
   "cell_type": "code",
   "execution_count": 42,
   "id": "35dafdbb",
   "metadata": {},
   "outputs": [],
   "source": [
    "chi2, p_value1, dof, expected = chi2_contingency(contingency_table)"
   ]
  },
  {
   "cell_type": "code",
   "execution_count": 43,
   "id": "3412be08",
   "metadata": {},
   "outputs": [
    {
     "name": "stdout",
     "output_type": "stream",
     "text": [
      "Null hypothesis rejected\n"
     ]
    }
   ],
   "source": [
    "if p_value1<0.05:\n",
    "    print('Null hypothesis rejected')\n",
    "else:\n",
    "    print('Null hypothesis accepted')"
   ]
  },
  {
   "cell_type": "code",
   "execution_count": 45,
   "id": "984d64aa",
   "metadata": {},
   "outputs": [],
   "source": [
    "#The null hypothesis is there is no dependence between region and manager and its rejected"
   ]
  },
  {
   "cell_type": "code",
   "execution_count": null,
   "id": "db9bff2a",
   "metadata": {},
   "outputs": [],
   "source": []
  }
 ],
 "metadata": {
  "kernelspec": {
   "display_name": "Python 3 (ipykernel)",
   "language": "python",
   "name": "python3"
  },
  "language_info": {
   "codemirror_mode": {
    "name": "ipython",
    "version": 3
   },
   "file_extension": ".py",
   "mimetype": "text/x-python",
   "name": "python",
   "nbconvert_exporter": "python",
   "pygments_lexer": "ipython3",
   "version": "3.10.9"
  }
 },
 "nbformat": 4,
 "nbformat_minor": 5
}
